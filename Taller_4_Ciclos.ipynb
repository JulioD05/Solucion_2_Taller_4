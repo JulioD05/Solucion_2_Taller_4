{
  "cells": [
    {
      "cell_type": "markdown",
      "id": "66beb5a1",
      "metadata": {
        "id": "66beb5a1"
      },
      "source": [
        "# Fundamentos de Programación para Ingeniería Mecánica\n",
        "## UPB Montería - 202310\n",
        "### Taller 4: Ciclos\n",
        "- Docente: Miguel Ortiz (miguel.ortizp@upb.edu.co)"
      ]
    },
    {
      "cell_type": "markdown",
      "id": "b4381f55",
      "metadata": {
        "id": "b4381f55"
      },
      "source": [
        "Datos del Estudiante:\n",
        "- Nombre: Julio Ernesto Vasquez Dueñas\n",
        "- ID: 515355\n",
        "- email: julio.vasquezd@upb.edu.co"
      ]
    },
    {
      "cell_type": "markdown",
      "id": "433f35a0",
      "metadata": {
        "id": "433f35a0"
      },
      "source": [
        "Resuelva los siguientes ejercicios utilizando estructuras cíclicas y condicionales."
      ]
    },
    {
      "cell_type": "markdown",
      "id": "aead929b",
      "metadata": {
        "id": "aead929b"
      },
      "source": [
        "### Problema 1: Suma de Elementos (30xp)\n",
        "\n",
        "Indique cuál de los dos números ingresados por el usuario tiene una suma de dígitos mayor y la diferencia de estas sumas. Si las sumas de los dígitos son iguales, infórmelo al usuario. \n",
        "\n",
        "**Ejemplo:**\n",
        "\n",
        "```\n",
        "Ingrese el primer número: 23672646\n",
        "Ingrese el segundo número: 12653686\n",
        "La suma de los elementos de la lista 2 es mayor que la suma de los elementos de la lista 1 en 1 unidades.\n",
        "```\n",
        "\n",
        "**Recomendación:** pruebe su algoritmo con listas de prueba:\n",
        "- `lst_1`: lista que representa el primer número. Por ejemplo: dígitos del número de su documento de identidad\n",
        "- `lst_2`: lista que representa el segundo número. Por ejemplo: dígitos del número de su id\n",
        "\n",
        "**Nota:** para leer un número ingresado por el usuario y convertirlo en lista puede utilizar las siguientes instrucciones:\n",
        "\n",
        "```python\n",
        "num = input('Número: ')\n",
        "lst = [int(x) for x in num]\n",
        "```"
      ]
    },
    {
      "cell_type": "code",
      "execution_count": 18,
      "metadata": {
        "colab": {
          "base_uri": "https://localhost:8080/"
        },
        "outputId": "7c7e9208-98e2-478f-9f8e-5d390e56a7fe",
        "id": "F1MG8FJLWbIT"
      },
      "outputs": [
        {
          "output_type": "stream",
          "name": "stdout",
          "text": [
            "Número: 455\n",
            "Número: 89876\n",
            "La suma de digitos del segundo numero es mayor   \n",
            "la resta de los dos numeros ingresados es 24\n"
          ]
        }
      ],
      "source": [
        "num_1 = input('Número: ')\n",
        "lst_1 = [int(x) for x in num_1]\n",
        "num_2 = input('Número: ')\n",
        "lst_2 = [int(x) for x in num_2]\n",
        "lst_1 = sum(lst_1)\n",
        "lst_2 = sum(lst_2)\n",
        "\n",
        "if lst_1 > lst_2:\n",
        "  w = lst_1 - lst_2\n",
        "  print(\"La suma de digitos del primer numero es mayor\")\n",
        "  print(\"la resta de los dos numeros ingresados es\" , w) \n",
        "\n",
        "    \n",
        "elif lst_1 < lst_2:\n",
        "  f = lst_2 - lst_1\n",
        "  print(\"La suma de digitos del segundo numero es mayor   \")\n",
        "  print(\"la resta de los dos numeros ingresados es\" , f)\n",
        "    \n",
        "    \n",
        "else: \n",
        "    print(\"La suma de las listas son iguales\")\n",
        "    \n",
        "    \n",
        "\n",
        "\n",
        "\n",
        "\n",
        "\n",
        "\n"
      ],
      "id": "F1MG8FJLWbIT"
    },
    {
      "cell_type": "markdown",
      "id": "986a4945",
      "metadata": {
        "id": "986a4945"
      },
      "source": [
        "### Problema 2: Suma Objetivo (50xp)\n",
        "\n",
        "Indique si la suma de los dígitos de un número de verificación alcanza un valor objetivo. Si obtiene el valor objetivo antes de finalizar el recorrido por todos los dígitos del número, indique la iteración en la que se obtuvo este valor. Tenga en cuenta que tanto el valor objetivo como el número de verificación son ingresados por el usuario. En cualquiera de los casos, muestre el resultado obtenido de la suma de los dígitos.\n",
        "\n",
        "**Ejemplo:**\n",
        "```\n",
        "Ingrese número de suma objetivo: 15\n",
        "Ingrese número para validar suma de dígitos: 1234562\n",
        "Suma obtenida en iteración 5 de 7\n",
        "Resultado obtenido: 15\n",
        "Alcanzó el valor objetivo.\n",
        "```\n",
        "\n",
        "**Recomendación:** pruebe su algoritmo con números y listas de prueba:\n",
        "- `n_obj`: valor objetivo\n",
        "- `lst`: lista que representa el número de verificación. Por ejemplo: dígitos del número de su id\n",
        "\n",
        "**Nota:** para leer un número ingresado por el usuario y convertirlo en lista puede utilizar las siguientes instrucciones:\n",
        "\n",
        "```python\n",
        "num = input('Número: ')\n",
        "lst = [int(x) for x in num]\n",
        "```"
      ]
    },
    {
      "cell_type": "code",
      "execution_count": 6,
      "id": "895f4399",
      "metadata": {
        "colab": {
          "base_uri": "https://localhost:8080/"
        },
        "id": "895f4399",
        "outputId": "7d587d17-84cf-4843-acbb-6f7be61734ca"
      },
      "outputs": [
        {
          "output_type": "stream",
          "name": "stdout",
          "text": [
            "Ingrese número de suma objetivo: 15\n",
            "Ingrese número para validar suma de dígitos: 8259087\n",
            "Suma obtenida en iteración 3 de 7\n",
            "Resultado obtenido: 15\n",
            "Alcanzó el valor objetivo.\n"
          ]
        }
      ],
      "source": [
        "objetivo = int(input(\"Ingrese número de suma objetivo: \"))\n",
        "num_verif = input(\"Ingrese número para validar suma de dígitos: \")\n",
        "\n",
        "\n",
        "suma = 0\n",
        "iteracion = 0\n",
        "\n",
        "\n",
        "for i in range(len(num_verif)):\n",
        "    \n",
        "    suma += int(num_verif[i])\n",
        "\n",
        "    iteracion += 1\n",
        "    \n",
        "    if suma == objetivo:\n",
        "        print(f\"Suma obtenida en iteración {iteracion} de {len(num_verif)}\")\n",
        "        print(f\"Resultado obtenido: {suma}\")\n",
        "        print(\"Alcanzó el valor objetivo.\")\n",
        "        break\n",
        "   \n",
        "    elif iteracion == len(num_verif):\n",
        "        print(f\"Resultado obtenido: {suma}\")\n",
        "        print(\"No alcanzó el valor objetivo.\")"
      ]
    },
    {
      "cell_type": "markdown",
      "id": "0b532b9b",
      "metadata": {
        "id": "0b532b9b"
      },
      "source": [
        "### Problema 3: Dígito Mayor (40xp)\n",
        "\n",
        "Indique el dígito de mayor valor y su posición en un número ingresado por el usuario. En caso de que el dígito mayor se repita, se debe retornar el índice del primero de ellos que fue encontrado. \n",
        "\n",
        "**Ejemplo:**\n",
        "\n",
        "```\n",
        "Ingrese número: 123753569054\n",
        "El dígito mayor de la lista es 9\n",
        "El número se encontró en la posición 8\n",
        "```\n",
        "\n",
        "**Recomendación:** pruebe su algoritmo con listas de prueba:\n",
        "- `lst`: lista que representa el número a evaluar. Por ejemplo: dígitos del número de su documento de identidad\n",
        "\n",
        "**Nota:** para leer un número ingresado por el usuario y convertirlo en lista puede utilizar las siguientes instrucciones:\n",
        "\n",
        "```python\n",
        "num = input('Número: ')\n",
        "lst = [int(x) for x in num]\n",
        "```"
      ]
    },
    {
      "cell_type": "code",
      "execution_count": 20,
      "id": "9159f388",
      "metadata": {
        "scrolled": true,
        "colab": {
          "base_uri": "https://localhost:8080/"
        },
        "id": "9159f388",
        "outputId": "4e57ba7f-96b4-446b-cb18-2e7fc3db7d2b"
      },
      "outputs": [
        {
          "output_type": "stream",
          "name": "stdout",
          "text": [
            "Ingrese número: 8795349\n",
            "El dígito mayor de la lista es 9\n",
            "El número se encontró en la posición 2\n"
          ]
        }
      ],
      "source": [
        "num = input(\"Ingrese número: \")\n",
        "\n",
        "\n",
        "posicion_max = 0\n",
        "valor_max = int(num[0])\n",
        "\n",
        "\n",
        "for i in range(len(num)):\n",
        "    \n",
        "    if int(num[i]) > valor_max:\n",
        "        valor_max = int(num[i])\n",
        "        posicion_max = i\n",
        "\n",
        "\n",
        "print(f\"El dígito mayor de la lista es {valor_max}\")\n",
        "print(f\"El número se encontró en la posición {posicion_max}\")"
      ]
    },
    {
      "cell_type": "markdown",
      "id": "03af9108",
      "metadata": {
        "id": "03af9108"
      },
      "source": [
        "### Problema 4: Valores que coinciden (50xp)\n",
        "\n",
        "Indique las posiciones (índices) en los cuales se encuentran los mismos valores de los dígitos en dos números ingresados por el usuario. El algoritmo debe verificar que los números tengan la misma longitud (igual número de dígitos). Si ninguno de los dígitos de los números coincide, también debe informarlo al usuario. \n",
        "\n",
        "**Ejemplo:**\n",
        "\n",
        "```\n",
        "Ingrese el primer número: 124646272\n",
        "Ingrese el segundo número: 354849136\n",
        "Los números tienen 2 dígitos(s) en común en la(s) posición(es): [2, 4]\n",
        "```\n",
        "\n",
        "**Recomendación:** pruebe su algoritmo con listas de prueba:\n",
        "- `lst_1`: lista que representa el primer número. \n",
        "- `lst_2`: lista que representa el segundo número. \n",
        "\n",
        "**Nota:** para leer un número ingresado por el usuario y convertirlo en lista puede utilizar las siguientes instrucciones:\n",
        "\n",
        "```python\n",
        "num = input('Número: ')\n",
        "lst = [int(x) for x in num]\n",
        "```"
      ]
    },
    {
      "cell_type": "code",
      "execution_count": 10,
      "id": "85469377",
      "metadata": {
        "colab": {
          "base_uri": "https://localhost:8080/"
        },
        "id": "85469377",
        "outputId": "cac2a94f-685c-4f51-a926-c6ba32a320b4"
      },
      "outputs": [
        {
          "output_type": "stream",
          "name": "stdout",
          "text": [
            "Ingrese el primer número: 507987\n",
            "Ingrese el segundo número: 577097\n",
            "Los números tienen 3 dígito(s) en común en la(s) posición(es): [0, 2, 5]\n"
          ]
        }
      ],
      "source": [
        "num1 = input(\"Ingrese el primer número: \")\n",
        "num2 = input(\"Ingrese el segundo número: \")\n",
        "\n",
        "\n",
        "if len(num1) != len(num2):\n",
        "    print(\"Los números no tienen la misma longitud.\")\n",
        "else:\n",
        "   \n",
        "    posiciones = []\n",
        "\n",
        "    \n",
        "    for i in range(len(num1)):\n",
        "       \n",
        "        if num1[i] == num2[i]:\n",
        "            posiciones.append(i)\n",
        "\n",
        "   \n",
        "    if len(posiciones) == 0:\n",
        "        print(\"Ningún dígito coincide en los dos números ingresados.\")\n",
        "   \n",
        "    else:\n",
        "        print(f\"Los números tienen {len(posiciones)} dígito(s) en común en la(s) posición(es): {posiciones}\")"
      ]
    },
    {
      "cell_type": "code",
      "execution_count": null,
      "id": "fdf35177",
      "metadata": {
        "id": "fdf35177"
      },
      "outputs": [],
      "source": []
    }
  ],
  "metadata": {
    "kernelspec": {
      "display_name": "Python 3 (ipykernel)",
      "language": "python",
      "name": "python3"
    },
    "language_info": {
      "codemirror_mode": {
        "name": "ipython",
        "version": 3
      },
      "file_extension": ".py",
      "mimetype": "text/x-python",
      "name": "python",
      "nbconvert_exporter": "python",
      "pygments_lexer": "ipython3",
      "version": "3.10.6"
    },
    "colab": {
      "provenance": []
    }
  },
  "nbformat": 4,
  "nbformat_minor": 5
}